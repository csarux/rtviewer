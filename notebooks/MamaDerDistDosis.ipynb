{
 "cells": [
  {
   "cell_type": "markdown",
   "id": "9a442820",
   "metadata": {},
   "source": [
    "# Visualización de tratamientos de radioterapia\n",
    "------"
   ]
  },
  {
   "cell_type": "markdown",
   "id": "f520e176-b1e7-4913-b7a6-7923bbb08df7",
   "metadata": {},
   "source": [
    "Para la prescripción, planificación y valoración de un tratamiento de radioterapia es necesario conocer la anatomía del paciente, la descripción de los haces empleados y la distribución de dosis generada."
   ]
  },
  {
   "cell_type": "markdown",
   "id": "db87ec39",
   "metadata": {},
   "source": [
    "## Estudio de CT"
   ]
  },
  {
   "cell_type": "markdown",
   "id": "58525f6e",
   "metadata": {},
   "source": [
    "Los datos anatómicos para la *simulación* del tratamiento del paciente se adquieren mediante un estudio de tomografía computerizada *CT* con el paciente inmobilizaddo en una postura que sea reproducible a lo largo del tratamiento.\n",
    "\n",
    "Los volúmenes relevantes para el tratamiento se escanean mediante cortes axiales que permiten realizar una reconstrucción tridimensional del paciente.\n",
    "\n",
    "En este cuaderno se puede visualizar el estudio de radioterapia de una paciente de carcinoma de mama.\n",
    "\n",
    "Comenzamos yendo al directorio que contiene los datos del estudio de la paciente e importando los módulos necesarios. \n",
    "\n",
    "Utilizaremos una librería específica para la visualización y evaluación de planes de radioterapia: `scikit-rt`"
   ]
  },
  {
   "cell_type": "code",
   "execution_count": null,
   "id": "6ebc3317",
   "metadata": {},
   "outputs": [],
   "source": [
    "%cd .."
   ]
  },
  {
   "cell_type": "code",
   "execution_count": null,
   "id": "7089a44f",
   "metadata": {},
   "outputs": [],
   "source": [
    "# Librerias específicas de radioterapia\n",
    "from skrt import Image, StructureSet, Patient\n",
    "from dicompylercore import dicomparser, dvh, dvhcalc\n",
    "\n",
    "# La libreria general DICOM\n",
    "import pydicom as dcm\n",
    "# Manejo de listas de archivos\n",
    "from glob import glob\n",
    "# Otras librerias para facilitar la visualización\n",
    "from matplotlib import pyplot as plt\n",
    "import ipywidgets as wdg\n",
    "%matplotlib widget"
   ]
  },
  {
   "cell_type": "markdown",
   "id": "a9ccbacd-fe0c-44bb-aa17-af821de25a0d",
   "metadata": {},
   "source": [
    "Leemos el estudio CT"
   ]
  },
  {
   "cell_type": "code",
   "execution_count": null,
   "id": "154f08ee",
   "metadata": {},
   "outputs": [],
   "source": [
    "im = Image('patients/TestMamaDer001/20230116_095704/CT/20230116_095704')"
   ]
  },
  {
   "cell_type": "markdown",
   "id": "07a1c062-399b-4ea2-adab-d268af081a00",
   "metadata": {},
   "source": [
    "En la figura generada en la siguiente celda es posible ajustando las barras de desplazamiento navegar por la anatomía de la paciente.\n",
    "\n",
    "Se puede apreciar que la paciente está situada con los brazos levantados para alejarlos de la región de tratamiento. Esto se consigue mediante unos inmovilizadores en los que la paciente apoya los brazos y los antebrazos en posiciones ajustables y reproducibles que faciliten el confort de la paciente. También es visible que la paciente tiene apoyada la espalda sobre un soporte completamente plano.\n",
    "\n",
    "En la posición de partida se pueden apreciar en el corte axial la posición de la cicatriz de la operación indicada mediante una marca radioopaca. El resto de puntos brillantes en el estudio son marcas externas relativas al posicionamiento del paciente que se utilizan para reproducir su posición y establecer un marco de coordenadas al que referir el tratamiento."
   ]
  },
  {
   "cell_type": "code",
   "execution_count": null,
   "id": "d859a6bb-1d4b-47d9-8bb6-bb26f1fd3f89",
   "metadata": {},
   "outputs": [],
   "source": [
    "@wdg.interact(x=(-200, 200), y=(-400, 0), z=(-50, 280)) \n",
    "def view3D(x, y, z):\n",
    "    fig, axd = plt.subplot_mosaic([['ax', 'ax'], ['sg', 'cr']], figsize=[10,10])\n",
    "    im.plot('x-y', ax=axd['ax'], pos=z, show=False, title='Vista axial')\n",
    "    im.plot('y-z', ax=axd['sg'], pos=x, show=False, title='Vista sagital')\n",
    "    im.plot('x-z', ax=axd['cr'], pos=y, title='Vista coronal')"
   ]
  },
  {
   "cell_type": "markdown",
   "id": "c85c759b-60d7-4739-a368-6ced22f5c5a4",
   "metadata": {},
   "source": [
    "En la discusión que sigue solo nos referiremos a los planos axiales recordando que otras vistas son posible modificando el primer argumento de las funciones de visualización. Por defecto este argumento asume proyección 'x-y', planos axiales."
   ]
  },
  {
   "cell_type": "code",
   "execution_count": null,
   "id": "c3fe390c",
   "metadata": {},
   "outputs": [],
   "source": [
    "@wdg.interact(z=(-50, 280))\n",
    "def axim(z):\n",
    "    # Selcción de orientación de los planos  \n",
    "    ## 'x-y' Axial\n",
    "    ## 'x-z' Coronal\n",
    "    ## 'y-z' Sagital  \n",
    "    im.plot('x-y', pos = z, figsize=8) "
   ]
  },
  {
   "cell_type": "markdown",
   "id": "61c9905b-b75b-4889-825f-81009c9063a4",
   "metadata": {},
   "source": [
    "El estudio de CT se adquirió con cortes cada 3 mm. La visualización muestra el plano más cercano al valor indicado por el parámetro `pos`.  "
   ]
  },
  {
   "cell_type": "markdown",
   "id": "23c68569",
   "metadata": {},
   "source": [
    "## Estructuras"
   ]
  },
  {
   "cell_type": "markdown",
   "id": "7f3aaef4",
   "metadata": {},
   "source": [
    "Los volumenes relevantes para la planificación, sean bien objetivos o bien regiones de interés, se tienen que delimitar sobre el estudio CT de simulación.\n",
    "\n",
    "Las imágenes se tienen que segmentar mediante procesos manuales o semiautomáticos. Estos últimos utilizan procedimientos de base de conocimiento que se ha tenido que establecer previamente mediante procesos manuales.\n",
    "\n",
    "Leemos el conjunto de estructuras presentes en el estudio"
   ]
  },
  {
   "cell_type": "code",
   "execution_count": null,
   "id": "8b84950d",
   "metadata": {},
   "outputs": [],
   "source": [
    "ss = StructureSet('patients/TestMamaDer001/20230116_095704/RTSTRUCT/CT/20230116_095704/RS.1.2.246.352.205.5566667512400723974.375329800850442140.dcm')"
   ]
  },
  {
   "cell_type": "markdown",
   "id": "1d79aaeb",
   "metadata": {},
   "source": [
    "Los conjuntos de estructuras se visualizan asociándolos a la imagen a partir de la que han sido generados"
   ]
  },
  {
   "cell_type": "code",
   "execution_count": null,
   "id": "2fb9bacd",
   "metadata": {},
   "outputs": [],
   "source": [
    "im.add_structure_set(ss)"
   ]
  },
  {
   "cell_type": "code",
   "execution_count": null,
   "id": "793eaad7",
   "metadata": {},
   "outputs": [],
   "source": [
    "im.plot(rois='all', pos=115, legend=True, legend_loc='lower right', figsize=8)"
   ]
  },
  {
   "cell_type": "markdown",
   "id": "853ced91-2cd3-4380-ab74-753471e04686",
   "metadata": {},
   "source": [
    "Para la planificación son relevantes de estas estructuras el contorno exterior (BODY) y la modelo de la mesa (COUCH). El BODY restringe a los puntos en su interior el cálculo de interacciones. Cualquier voxel externo al BODY se considera vacío en términos físicos a excepción de los volúmenes COUCH. Sus densidades se fuerzan a las correspondientes a los materiales con los que están hechos los elementos de soporte del acelerador.\n",
    "\n",
    "Por simplificar del resto de estructuras solo consideraremos los PTVs, volúmenes objetivos de la prescripción, y como región de interés el pulmón ipsilateral, en este caso el pulmón derecho. Para entender que se trata del pulmón derecho del paciente consideresé que la paciente está situada como si sus pies estuvieran saliendo de la pantalla. En el estudio CT esta orientación se indentifica como *head first*"
   ]
  },
  {
   "cell_type": "markdown",
   "id": "6dfa62a5-71a8-40e5-a126-9f6a4b7d9c9d",
   "metadata": {},
   "source": [
    "## Paciente"
   ]
  },
  {
   "cell_type": "markdown",
   "id": "51049f3e-8cbb-4194-b23d-76ac26a20593",
   "metadata": {},
   "source": [
    "Desde el punto de vista de la radioterapia una manera más conveniente de almacenar los datos de tratamiento es mediante una estructura en la que a un estudio de CT se le asocian una o varias conjuntos de estructuras, uno o varios planes de tratamiento y una o varias distribuciones de dosis.\n",
    "\n",
    "Las distribuciones de dosis se pueden visualizar de forma independiente aunque técnicamente tienen que estar asociadas al plan que permite generarlas.\n",
    "\n",
    "Planes y distribuciones de dosis van asociadas a los conjuntos de estructuras.\n",
    "\n",
    "Las imágenes de un paciente realizadas en un momento concreto y los conjuntos de estructuras, planes y distribuciones de dosis asociadas forman un **estudio**.\n",
    "\n",
    "`scikit-rt` requiere una estrctura concreta de directorios para almacener todos estos datos y poder identificar al paciente como a los estudios que contiene."
   ]
  },
  {
   "cell_type": "code",
   "execution_count": null,
   "id": "39f9eeff-2b77-4ad9-9e62-ae168c3f3d60",
   "metadata": {},
   "outputs": [],
   "source": [
    "!tree -d 'patients/TestMamaDer001'"
   ]
  },
  {
   "cell_type": "markdown",
   "id": "464fa950-7453-4ebe-8cf7-59161c6e74d5",
   "metadata": {},
   "source": [
    "Leemos los datos de un paciente"
   ]
  },
  {
   "cell_type": "code",
   "execution_count": null,
   "id": "a97a64e9",
   "metadata": {},
   "outputs": [],
   "source": [
    "pat = Patient('patients/TestMamaDer001')"
   ]
  },
  {
   "cell_type": "markdown",
   "id": "84157455-71ea-4641-ba08-72c2256ed48c",
   "metadata": {},
   "source": [
    "En este caso el paciente solo contiene un estudio"
   ]
  },
  {
   "cell_type": "code",
   "execution_count": null,
   "id": "3663de77-1fff-49f0-9216-dc5987c76c1a",
   "metadata": {},
   "outputs": [],
   "source": [
    "len(pat.studies)"
   ]
  },
  {
   "cell_type": "markdown",
   "id": "34f5295f-c5cf-4b6b-9bcf-536f63237fbe",
   "metadata": {},
   "source": [
    "Un conjunto de estructuras"
   ]
  },
  {
   "cell_type": "code",
   "execution_count": null,
   "id": "bc2bf477-c2b4-4d9c-b250-4ef5006347f4",
   "metadata": {},
   "outputs": [],
   "source": [
    "!ls patients/TestMamaDer001/20230116_095704/RTSTRUCT/CT/20230116_095704/"
   ]
  },
  {
   "cell_type": "markdown",
   "id": "3823d961-2519-4986-b49c-ce801a8f6610",
   "metadata": {},
   "source": [
    "Y cuatro distribucioes de dosis"
   ]
  },
  {
   "cell_type": "code",
   "execution_count": null,
   "id": "2f55dfd4-b1b8-469e-866e-3d35f89de844",
   "metadata": {},
   "outputs": [],
   "source": [
    "!ls patients/TestMamaDer001/20230116_095704/RTDOSE/CT/20230116_095704/"
   ]
  },
  {
   "cell_type": "markdown",
   "id": "fdb726f0-24b3-4c4f-aa2f-0b3bb493e2de",
   "metadata": {},
   "source": [
    "Las cuatro distribuciones de dosis corresponden a cuatro planes, tres de fraccionamiento convencional (2 Gy/fr) y uno hipofraccionado (> 2 Gy/fr):\n",
    "- Fraccionamiento convencional\n",
    "    + Fase 1: Tratamiento uniforme de la prescripción sobre PTV mama dcha. ID: FraccStdF1\n",
    "    + Fase 2: Tratamiento uniforme de la prescripción sobre PTV boost mama dcha. ID: FraccStdF2\n",
    "    + Suma: Dosis Fase 1 + Dose Fase 2. ID: FraccStdF3\n",
    "- Tratamiento hipofraccionado\n",
    "    + Tratamiento simultáneo de los dos volúmenes objetivo (PTV mama dcha y PTV boost mama dcha) de manera que se llegue a las dosis totales de prescripción de cada uno de ellos simultáneamente. ID: MamaDerSIB "
   ]
  },
  {
   "cell_type": "code",
   "execution_count": null,
   "id": "5e240fe1-17a4-414c-8b8d-54479e19ea13",
   "metadata": {},
   "outputs": [],
   "source": [
    "!ls patients/TestMamaDer001/20230116_095704/RTPLAN/CT/20230116_095704/"
   ]
  },
  {
   "cell_type": "markdown",
   "id": "de08fc4c-8292-4f36-9d93-ffaf48efa799",
   "metadata": {},
   "source": [
    "Creamos `plandict` variable de tipo diccionario que relaciona el nombre del plan con su UID"
   ]
  },
  {
   "cell_type": "code",
   "execution_count": null,
   "id": "76f0dc53-a849-4812-ae20-f7e6e2066065",
   "metadata": {},
   "outputs": [],
   "source": [
    "plans = glob('patients/TestMamaDer001/20230116_095704/RTPLAN/CT/20230116_095704/*.dcm')\n",
    "plandict = {}\n",
    "for plan in plans:\n",
    "    plandcm = dcm.read_file(plan)\n",
    "    plandict[plandcm.RTPlanLabel] = plandcm.SOPInstanceUID"
   ]
  },
  {
   "cell_type": "markdown",
   "id": "7777ef94-0b07-47de-a358-9bc4f64630da",
   "metadata": {},
   "source": [
    "`plandict` permite obtener el UID de un plan a partir de su nombre. Por ejemplo el UID del plan suma (ID: FraccStdF3)"
   ]
  },
  {
   "cell_type": "code",
   "execution_count": null,
   "id": "c0e453be-0583-4370-9708-43f51d4b7181",
   "metadata": {},
   "outputs": [],
   "source": [
    "plandict['FraccStdF3']"
   ]
  },
  {
   "cell_type": "markdown",
   "id": "8fd1d45b-bbd9-4b91-a85f-6aa69a4bc5af",
   "metadata": {},
   "source": [
    "Creamos una variable sobre el estudio del paciente, y visualizamos el contenido del estudio. Observemos que `scikit-rt` ha leído correctamente el contenido y ha identificado una imagen, un conjunto de estructuras, cuatro planes y cuatro distribuciones de dosis."
   ]
  },
  {
   "cell_type": "code",
   "execution_count": null,
   "id": "1346c686-981d-413e-889e-9655461c972f",
   "metadata": {},
   "outputs": [],
   "source": [
    "stdy = pat.studies[0]\n",
    "stdy"
   ]
  },
  {
   "cell_type": "markdown",
   "id": "f2e7193e-0d45-4a63-93bc-dda35a22cc69",
   "metadata": {},
   "source": [
    "Asignamos el conjunto de estructuras a una variable para facilitar su manejo. Fijémonos que estamos machacando la variable que habíamos definido previamente para mostrar el conjunto de estructuras, pero que en realidad estamos accediendo por dos cáminos diferentes a los mismos datos"
   ]
  },
  {
   "cell_type": "code",
   "execution_count": null,
   "id": "51212164",
   "metadata": {},
   "outputs": [],
   "source": [
    "ss = stdy.ct_structure_sets[0]"
   ]
  },
  {
   "cell_type": "markdown",
   "id": "e3ba73e9-23ef-4fc9-9f4f-be8cbe778d8a",
   "metadata": {},
   "source": [
    "### Distribución de dosis"
   ]
  },
  {
   "cell_type": "markdown",
   "id": "5e71c933-bf0e-431b-91a0-e7f33157b933",
   "metadata": {},
   "source": [
    "Definimos una función que nos permita seleccionar la dosis por el nombre del plan"
   ]
  },
  {
   "cell_type": "code",
   "execution_count": null,
   "id": "9f80efec-3290-4391-8df8-56aee084e4b8",
   "metadata": {},
   "outputs": [],
   "source": [
    "def getrtdose(planname):\n",
    "    for ct_dose in stdy.ct_doses:\n",
    "        if ct_dose.plan.path.split('/')[-1] == 'RP.'  + plandict[planname] + '.dcm':\n",
    "            return ct_dose "
   ]
  },
  {
   "cell_type": "markdown",
   "id": "75a3395e-4b02-4d8c-bcaa-4187713a044f",
   "metadata": {},
   "source": [
    "Por ejemplo para recuperar la dosis del plan **FraccStdF1**"
   ]
  },
  {
   "cell_type": "code",
   "execution_count": null,
   "id": "0200f5f2-ddb6-4002-90de-1a4e052c50cd",
   "metadata": {},
   "outputs": [],
   "source": [
    "getrtdose('FraccStdF1')"
   ]
  },
  {
   "cell_type": "markdown",
   "id": "dfd16934-6b19-4b3e-bf34-de55e0bd05a8",
   "metadata": {},
   "source": [
    "Definimos una función que nos permita visualizar la dosis correspondiente a un plan concreto"
   ]
  },
  {
   "cell_type": "code",
   "execution_count": null,
   "id": "4bcffd08-086c-49a5-9b36-734196fc75b7",
   "metadata": {},
   "outputs": [],
   "source": [
    "@wdg.interact(plan=['FraccStdF1', 'FraccStdF2', 'FraccStdF3', 'MamaDerSIB'], z=(-50, 280), Dmin=(0, 65), Dmax=(1, 66))\n",
    "def DosePlanViewer(plan, z=150, Dmin=0, Dmax=66):\n",
    "    fig, ax = plt.subplots(figsize=(10,5))\n",
    "    ss.plot(ax=ax, show=False, pos=z)\n",
    "    dose = getrtdose(plan)\n",
    "    dose.plot(pos=z, colorbar=1, ax=ax, intensity=[Dmin, Dmax], show=False)\n",
    "    plt.show()"
   ]
  },
  {
   "cell_type": "markdown",
   "id": "f7486e18-9549-4019-a33a-108f5b74ddfd",
   "metadata": {},
   "source": [
    "En la figura anterior es fácilmente observable, más aún si se hace zoom sobre la imagen, que el tamaño de pixel de las imágenes de CT es inferior al de la imagen de la distribución de dosis. Los valores reales de este estudio son un tamño de pixel de 1 mm en las imágenes de CT, mientras que en el planificador de radioterapia se empleó una matriz de cálculo con un tamaño de voxel de 2.5 mm. Estos valores son valores típicos empleados en la planificación, un compromiso entre precisión y esfuerzo de cálculo. Los planificadores de radioterapia no suelen mostrar la distribución de dosis en una vista como la anterior sino una más *suave*. Para ello los planificadores interpolan la distribución calculada. Esta interpolación puede realizarse sin falsear la información de la distribución de dosis porque esta no contiene frecuencias altas en la variación espacial, la propia naturaleza de la deposición de dosis impide la formación de bordes abruptos en la distribución de dosis.\n",
    "\n",
    "`scikit-rt` proporciona herramientas para realizar la interpolación. Interpolamos todas las distribuciones de dosis (el proceso lleva tiempo, seamos pacientes). \n",
    "\n",
    "*La interpolación es exigente en cuanto a los recursos que necesita. Es posible que el kernel que corre en la nube se quede sin memoria y el proceso no se complete.*"
   ]
  },
  {
   "cell_type": "code",
   "execution_count": null,
   "id": "190e233e-2536-420a-87c5-e22f8a725383",
   "metadata": {},
   "outputs": [],
   "source": [
    "[ct_dose.resample(order=2) for ct_dose in stdy.ct_doses];"
   ]
  },
  {
   "cell_type": "markdown",
   "id": "80e7dad9-695a-4d28-be56-1fb7bc191daa",
   "metadata": {},
   "source": [
    "Si volvemos a representar la dosis ahora varía de forma tan suave como la imagen de CT"
   ]
  },
  {
   "cell_type": "code",
   "execution_count": null,
   "id": "eba1ac16-344c-4615-ac4e-4ce3608d0099",
   "metadata": {},
   "outputs": [],
   "source": [
    "@wdg.interact(plan=['FraccStdF1', 'FraccStdF2', 'FraccStdF3', 'MamaDerSIB'], z=(-50, 280), Dmin=(0, 65), Dmax=(1, 66))\n",
    "def DosePlanViewer(plan, z=150, Dmin=0, Dmax=66):\n",
    "    fig, ax = plt.subplots(figsize=(10,5))\n",
    "    ss.plot(ax=ax, show=False, pos=z)\n",
    "    dose = getrtdose(plan)\n",
    "    dose.plot(pos=z, colorbar=1, ax=ax, intensity=[Dmin, Dmax], show=False)\n",
    "    plt.show()"
   ]
  },
  {
   "cell_type": "markdown",
   "id": "09b64ba2-fb4b-4f13-9847-1f1a19adfb3a",
   "metadata": {
    "tags": []
   },
   "source": [
    "En la figura anterior podemos seleccionar los diferentes planes, cambiar el plano visualizado y el rango de dosis que se muestra para entender cómo es la distribución de dosis en cada caso."
   ]
  }
 ],
 "metadata": {
  "kernelspec": {
   "display_name": "Python 3 (ipykernel)",
   "language": "python",
   "name": "python3"
  },
  "language_info": {
   "codemirror_mode": {
    "name": "ipython",
    "version": 3
   },
   "file_extension": ".py",
   "mimetype": "text/x-python",
   "name": "python",
   "nbconvert_exporter": "python",
   "pygments_lexer": "ipython3",
   "version": "3.9.7"
  }
 },
 "nbformat": 4,
 "nbformat_minor": 5
}
