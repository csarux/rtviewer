{
 "cells": [
  {
   "cell_type": "markdown",
   "id": "09df760b-f16a-4375-877e-01b299daf15e",
   "metadata": {},
   "source": [
    "# Visualización y valoración de planes de radioterapia mediante Histogramas Dosis Volumen\n",
    "----------"
   ]
  },
  {
   "cell_type": "markdown",
   "id": "15b1bc28-083b-48f0-b43a-2eb520263928",
   "metadata": {
    "tags": []
   },
   "source": [
    "Tener un conocimiento de cómo se distribuye espacialmente la dosis es esencial para valorar un plan de radioterapia (ver el otro cuaderno de este proyecto `MamaDerDistDosis.ipyno` **Visualización de tratamientos de radioterpia**), pero la distribución espacial de la dosis en sí misma es insuficiente para valorar cuantitativamente si el plan cumple con los objetivos de la prescripción afectando de forma tolerable a los órganos de riesgo.\n",
    "\n",
    "Esta valoración cuantitativa se realiza empleando los denominados Histogramas Dosis Volumen o **DVH** por sus siglas en inglés.\n",
    "\n",
    "`scikit-rt` también dispone de herramientas para obtener DVHs pero requiere de más código de lo que se necesita con otros paquetes de software de radioterapia. Esta parte de la visualización la vamos a realizar con un módulo python denominado `dicompyler-core`"
   ]
  },
  {
   "cell_type": "code",
   "execution_count": 1,
   "id": "a60e8e6e-9b6d-431e-96d9-22f8330091ed",
   "metadata": {},
   "outputs": [],
   "source": [
    "from dicompylercore import dicomparser, dvh, dvhcalc\n",
    "\n",
    "# La libreria general DICOM\n",
    "import pydicom as dcm\n",
    "# Manejo de listas de archivos\n",
    "from glob import glob\n",
    "# Otras librerias para facilitar la visualización\n",
    "from matplotlib import pyplot as plt"
   ]
  },
  {
   "cell_type": "code",
   "execution_count": 2,
   "id": "c360aa38-28fa-424f-8acd-e005457c689c",
   "metadata": {},
   "outputs": [
    {
     "name": "stdout",
     "output_type": "stream",
     "text": [
      "/Users/cesar/Documents/Development/GitHub/rtviewer\n"
     ]
    }
   ],
   "source": [
    "%cd .."
   ]
  },
  {
   "cell_type": "markdown",
   "id": "1990df17-9865-4563-898f-81513aa1f5c3",
   "metadata": {},
   "source": [
    "El trabajo con `dicompyler-core`comienza leyendo el conjunto de estructuras mediante un objeto denominado `DicomParser`"
   ]
  },
  {
   "cell_type": "code",
   "execution_count": 4,
   "id": "c95f640e-24b0-40af-a4f2-586e41d99823",
   "metadata": {},
   "outputs": [],
   "source": [
    "dicomssfile = 'patients/TestMamaDer001/20230116_095704/RTSTRUCT/CT/20230116_095704/RS.1.2.246.352.205.5566667512400723974.375329800850442140.dcm'\n",
    "\n",
    "dp = dicomparser.DicomParser(dicomssfile)\n",
    "strs = dp.GetStructures()"
   ]
  },
  {
   "cell_type": "markdown",
   "id": "a86c9809-06d2-4958-9b2e-a6a78f4fb636",
   "metadata": {},
   "source": [
    "`DicomParser` también se puede utilizar para leer la información de las distribuciones de dosis.\n",
    "\n",
    "Definimos una función que nos dé la dosis en función del nombre del plan"
   ]
  },
  {
   "cell_type": "code",
   "execution_count": 5,
   "id": "771cadf0-5b48-4a3a-947d-132e02114ba1",
   "metadata": {},
   "outputs": [],
   "source": [
    "def rtdoseparser(planname):\n",
    "    dosefiles = glob('patients/TestMamaDer001/20230116_095704/RTDOSE/CT/20230116_095704/*.dcm')\n",
    "    for dosefile in dosefiles:\n",
    "        dicomdosefile = dcm.read_file(dosefile)\n",
    "        dicomplanfile = dcm.read_file('patients/TestMamaDer001/20230116_095704/RTPLAN/CT/20230116_095704/RP.' +\n",
    "                                       dicomdosefile.ReferencedRTPlanSequence[0].ReferencedSOPInstanceUID +\n",
    "                                       '.dcm')\n",
    "        if dicomplanfile.RTPlanLabel == planname:\n",
    "            return dicomparser.DicomParser(dosefile)"
   ]
  },
  {
   "cell_type": "markdown",
   "id": "df826428-23f2-413b-ac68-5cbfefc49394",
   "metadata": {},
   "source": [
    "Los planificadores de radioterapia pueden estar preparados para exportar junto con la dosis la información del DVH. En nuestro caso no hemos exportado esta información. Si leemos la distribución de dosis de un plan concreto y buscamos la información sobre el DVH `dicompyler-core` nos devuelve un error diciendo que la secuencia del DVH no está presente"
   ]
  },
  {
   "cell_type": "code",
   "execution_count": 6,
   "id": "fa4d121b-9b57-4a0d-8327-e9919563af78",
   "metadata": {},
   "outputs": [],
   "source": [
    "rtdoseplan = rtdoseparser('FraccStdF2')"
   ]
  },
  {
   "cell_type": "code",
   "execution_count": 7,
   "id": "46a547b0-7892-4a5a-94e2-1f591e6359a3",
   "metadata": {},
   "outputs": [
    {
     "ename": "AttributeError",
     "evalue": "'FileDataset' object has no attribute 'DVHSequence'",
     "output_type": "error",
     "traceback": [
      "\u001b[0;31m---------------------------------------------------------------------------\u001b[0m",
      "\u001b[0;31mAttributeError\u001b[0m                            Traceback (most recent call last)",
      "Input \u001b[0;32mIn [7]\u001b[0m, in \u001b[0;36m<cell line: 1>\u001b[0;34m()\u001b[0m\n\u001b[0;32m----> 1\u001b[0m \u001b[43mdvh\u001b[49m\u001b[38;5;241;43m.\u001b[39;49m\u001b[43mDVH\u001b[49m\u001b[38;5;241;43m.\u001b[39;49m\u001b[43mfrom_dicom_dvh\u001b[49m\u001b[43m(\u001b[49m\u001b[43mrtdoseplan\u001b[49m\u001b[38;5;241;43m.\u001b[39;49m\u001b[43mds\u001b[49m\u001b[43m,\u001b[49m\u001b[43m \u001b[49m\u001b[38;5;241;43m14\u001b[39;49m\u001b[43m)\u001b[49m\n",
      "File \u001b[0;32m~/Documents/Development/skrt/lib/python3.9/site-packages/dicompylercore/dvh.py:67\u001b[0m, in \u001b[0;36mDVH.from_dicom_dvh\u001b[0;34m(cls, dataset, roi_num, rx_dose, name, color)\u001b[0m\n\u001b[1;32m     65\u001b[0m \u001b[38;5;124;03m\"\"\"Initialization for a DVH from a pydicom RT Dose DVH sequence.\"\"\"\u001b[39;00m\n\u001b[1;32m     66\u001b[0m sequence_num \u001b[38;5;241m=\u001b[39m \u001b[38;5;241m-\u001b[39m\u001b[38;5;241m1\u001b[39m\n\u001b[0;32m---> 67\u001b[0m \u001b[38;5;28;01mfor\u001b[39;00m i, d \u001b[38;5;129;01min\u001b[39;00m \u001b[38;5;28menumerate\u001b[39m(\u001b[43mdataset\u001b[49m\u001b[38;5;241;43m.\u001b[39;49m\u001b[43mDVHSequence\u001b[49m):\n\u001b[1;32m     68\u001b[0m     \u001b[38;5;28;01mif\u001b[39;00m \u001b[38;5;124m'\u001b[39m\u001b[38;5;124mDVHReferencedROISequence\u001b[39m\u001b[38;5;124m'\u001b[39m \u001b[38;5;129;01min\u001b[39;00m d:\n\u001b[1;32m     69\u001b[0m         \u001b[38;5;28;01mif\u001b[39;00m \u001b[38;5;124m'\u001b[39m\u001b[38;5;124mReferencedROINumber\u001b[39m\u001b[38;5;124m'\u001b[39m \u001b[38;5;129;01min\u001b[39;00m d\u001b[38;5;241m.\u001b[39mDVHReferencedROISequence[\u001b[38;5;241m0\u001b[39m]:\n",
      "File \u001b[0;32m~/Documents/Development/skrt/lib/python3.9/site-packages/pydicom/dataset.py:834\u001b[0m, in \u001b[0;36mDataset.__getattr__\u001b[0;34m(self, name)\u001b[0m\n\u001b[1;32m    832\u001b[0m     \u001b[38;5;28;01mreturn\u001b[39;00m {}\n\u001b[1;32m    833\u001b[0m \u001b[38;5;66;03m# Try the base class attribute getter (fix for issue 332)\u001b[39;00m\n\u001b[0;32m--> 834\u001b[0m \u001b[38;5;28;01mreturn\u001b[39;00m \u001b[38;5;28;43mobject\u001b[39;49m\u001b[38;5;241;43m.\u001b[39;49m\u001b[38;5;21;43m__getattribute__\u001b[39;49m\u001b[43m(\u001b[49m\u001b[38;5;28;43mself\u001b[39;49m\u001b[43m,\u001b[49m\u001b[43m \u001b[49m\u001b[43mname\u001b[49m\u001b[43m)\u001b[49m\n",
      "\u001b[0;31mAttributeError\u001b[0m: 'FileDataset' object has no attribute 'DVHSequence'"
     ]
    }
   ],
   "source": [
    "dvh.DVH.from_dicom_dvh(rtdoseplan.ds, 14)"
   ]
  },
  {
   "cell_type": "markdown",
   "id": "b6700228-fdd3-40b8-8965-8b88275d9d85",
   "metadata": {},
   "source": [
    "En este caso tenemos que calcular el DVH a partir de las estructuras y la dosis\n",
    "\n",
    "Definimos una función que nos devuelva el nombre del archivo de dosis en función del plan"
   ]
  },
  {
   "cell_type": "code",
   "execution_count": 8,
   "id": "e1d1ca35-05aa-47e0-925c-e21fe1be5353",
   "metadata": {},
   "outputs": [],
   "source": [
    "def rtdosefile(planname):\n",
    "    dosefiles = glob('patients/TestMamaDer001/20230116_095704/RTDOSE/CT/20230116_095704/*.dcm')\n",
    "    for dosefile in dosefiles:\n",
    "        dicomdosefile = dcm.read_file(dosefile)\n",
    "        dicomplanfile = dcm.read_file('patients/TestMamaDer001/20230116_095704/RTPLAN/CT/20230116_095704/RP.' +\n",
    "                                       dicomdosefile.ReferencedRTPlanSequence[0].ReferencedSOPInstanceUID +\n",
    "                                       '.dcm')\n",
    "        if dicomplanfile.RTPlanLabel == planname:\n",
    "            return dosefile"
   ]
  },
  {
   "cell_type": "markdown",
   "id": "21f65bcd-4ba5-49b3-9ae1-877aff33ac6e",
   "metadata": {},
   "source": [
    "Para calcular un DVH de una estructura pasamos el archivo de estructura, el de dosis y el índice de la estructura"
   ]
  },
  {
   "cell_type": "code",
   "execution_count": 9,
   "id": "856f1267-6aad-4699-a40d-269b762d2f80",
   "metadata": {},
   "outputs": [],
   "source": [
    "calcdvh = dvhcalc.get_dvh(dicomssfile, rtdosefile('MamaDerSIB'), 14)"
   ]
  },
  {
   "cell_type": "markdown",
   "id": "6e229420-6b30-4853-bb9d-7f76c502f34d",
   "metadata": {},
   "source": [
    "Podemos representar el histograma"
   ]
  },
  {
   "cell_type": "code",
   "execution_count": 10,
   "id": "7756d9f9-6307-4a10-80f6-c3976a288023",
   "metadata": {},
   "outputs": [
    {
     "data": {
      "text/plain": [
       "DVH(cumulative, 5149 bins: [0.0:51.49] Gy, volume: 35.03125 cm3, name: 'PTV boost dcho', rx_dose: 0 Gy)"
      ]
     },
     "execution_count": 10,
     "metadata": {},
     "output_type": "execute_result"
    },
    {
     "data": {
      "image/png": "[encoded data removed]",
      "text/plain": [
       "<Figure size 432x288 with 1 Axes>"
      ]
     },
     "metadata": {
      "needs_background": "light"
     },
     "output_type": "display_data"
    }
   ],
   "source": [
    "calcdvh.plot()"
   ]
  },
  {
   "cell_type": "markdown",
   "id": "9a71bd05-474d-4478-a4af-bb56d15348ae",
   "metadata": {},
   "source": [
    "Buscamos los índices de las estructuras relevantes para nuestro problema: PTV mama dcha, PTV boost mama dcha, Pulmón dcho"
   ]
  },
  {
   "cell_type": "code",
   "execution_count": 11,
   "id": "75eedef7-4647-4e00-a100-d7a2738edd3e",
   "metadata": {},
   "outputs": [
    {
     "name": "stdout",
     "output_type": "stream",
     "text": [
      "1 BODY\n",
      "7 Corazon/pericard\n",
      "8 CTV boost dcho\n",
      "9 CTV mama dcha\n",
      "10 Humero dcho\n",
      "11 linea media\n",
      "12 Medula\n",
      "14 PTV boost dcho\n",
      "15 PTV mama dcha\n",
      "16 Pulmon Dcho\n",
      "17 Pulmon Izqdo\n",
      "18 Tiroides\n",
      "19 CouchSurface\n",
      "20 CouchInterior\n"
     ]
    }
   ],
   "source": [
    "for key in strs.keys():\n",
    "    print(key, strs[key]['name'])"
   ]
  },
  {
   "cell_type": "markdown",
   "id": "3b2ca5d6-5b68-42e0-b239-898e7662a621",
   "metadata": {},
   "source": [
    "Definimos la lista con los índices de las estructuras relevantes"
   ]
  },
  {
   "cell_type": "code",
   "execution_count": 25,
   "id": "20e0cbe9-1c8c-4170-9c56-de79799a8334",
   "metadata": {},
   "outputs": [],
   "source": [
    "ssrels = [14, 15, 16]"
   ]
  },
  {
   "cell_type": "markdown",
   "id": "1b110310-d086-46b4-bd00-ccfc1d4601df",
   "metadata": {},
   "source": [
    "Definimos una función que representa los DVHs calculados para las estructuras relevantes y devuelve un diccionario que contiene los DVHs calculados utiilizando como parámetro el nombre de un plan concreto. La representación del plan la hacemos en unidades relativas del volumen de cada estructura (%) en función de la dosis absorbida (Gy)."
   ]
  },
  {
   "cell_type": "code",
   "execution_count": 38,
   "id": "ce87a6dc-adfd-49df-a999-fb5ab7e241e2",
   "metadata": {},
   "outputs": [],
   "source": [
    "def calcdvhrels(planname):\n",
    "    cdvhs = {}\n",
    "    for ssrel in ssrels:\n",
    "        cdvhs[strs[ssrel]['name']] = dvhcalc.get_dvh(dicomssfile, rtdosefile(planname), ssrel) \n",
    "    [cdvh.relative_volume.plot() for cdvh in cdvhs.values()]\n",
    "    return cdvhs"
   ]
  },
  {
   "cell_type": "markdown",
   "id": "d508c7ed-c4c0-46db-b3be-ad4f8ba37e63",
   "metadata": {},
   "source": [
    "Podemos hacer una comparación de dos histogramas correspondientes a la dosis total impartida por dos esquemas diferentes de fraccionamiento."
   ]
  },
  {
   "cell_type": "code",
   "execution_count": 46,
   "id": "4d657942-c94e-4a1c-9fd2-c13dbf736250",
   "metadata": {},
   "outputs": [
    {
     "data": {
      "image/png": "[encoded data removed]",
      "text/plain": [
       "<Figure size 432x288 with 1 Axes>"
      ]
     },
     "metadata": {
      "needs_background": "light"
     },
     "output_type": "display_data"
    }
   ],
   "source": [
    "SIBcdvhs = calcdvhrels('MamaDerSIB')\n",
    "FraccStdcdvhs = calcdvhrels('FraccStdF3')"
   ]
  },
  {
   "cell_type": "markdown",
   "id": "a2c73a7e-e4a5-4883-99a4-4b04bd79c97b",
   "metadata": {},
   "source": [
    "Podemos obtener una descripción resumida del histograma"
   ]
  },
  {
   "cell_type": "code",
   "execution_count": 48,
   "id": "410b5503-78a3-4db3-a04e-8cf8ffebf624",
   "metadata": {},
   "outputs": [
    {
     "name": "stdout",
     "output_type": "stream",
     "text": [
      "Structure: PTV boost dcho\n",
      "-----\n",
      "DVH Type:  cumulative, abs dose: Gy, abs volume: cm3\n",
      "Volume:    35.03 cm3\n",
      "Max Dose:  51.49 Gy\n",
      "Min Dose:  45.91 Gy\n",
      "Mean Dose: 48.74 Gy\n",
      "D100:      45.90 Gy\n",
      "D98:       46.75 Gy\n",
      "D95:       47.20 Gy\n",
      "D2cc:      50.31 Gy\n"
     ]
    }
   ],
   "source": [
    "SIBcdvhs['PTV boost dcho'].describe()"
   ]
  },
  {
   "cell_type": "markdown",
   "id": "94041291-5fe2-48e2-891c-920a4cfeadfe",
   "metadata": {},
   "source": [
    "En general para valorar el plan necesitaremos detalles más concretos de lo que nos proporciona este resumen.\n",
    "\n",
    "Los Oncólogos de Radioterapia pueden expresar sus requitos y restricciones sobre el plan tanto en valores relativos como en valores abosolutos tanto para el volumen del órgano como para la dosis absorbida.\n",
    "\n",
    "A modo de ejemplo:\n",
    "- V95 > 95 Se requiere que el volumen cubierto por el 95% de la dosis de prescripción sea mayor que el 95% del volumen del órgano\n",
    "- V45Gy > 95 Se requiere que el volumen cubierto por la isodosis de 45 Gy sea mayor que el 95% del volumen del órgano\n",
    "- V45 < 10cc Se requiere que el volumen cubierto por la isodosis de 45 Gy sea inferior a 10 centímetros cúbicos\n",
    "- D95 > 95 Se requiere que la dosis que cubre el 95% del volumen sea superior al 95% de la dosis de prescripción\n",
    "- D15 < 20Gy Se requiere que la dosis que cubre el 15% del volumen sea inferior a 20 Gy\n",
    "- D0.5cc < 30Gy Se require que como máximo 0.5 cc reciban una dosis de 30 Gy.\n",
    "\n",
    "Nótose que que la condición primera es diferente a la cuarta pese a su similitud.\n",
    "\n",
    "`dicompyler-core` tiene métodos para acceder a los valores del histogramas en las distintas unidades y poder realizar estas comprobaciones.\n",
    "\n",
    "Por ejemplo considermos el plan **MamaDerSIB**. Partimos de los histogramas calculados para sus órganos relevantes `SIBcdvhs`. Para obtener el valor V20Gy en el pulmón ipsilateral en unidades relativas "
   ]
  },
  {
   "cell_type": "code",
   "execution_count": 88,
   "id": "3b8d9111-7273-42d0-8ab9-77379e8965eb",
   "metadata": {},
   "outputs": [
    {
     "data": {
      "text/plain": [
       "dvh.DVHValue(17.999365961908943, '%')"
      ]
     },
     "execution_count": 88,
     "metadata": {},
     "output_type": "execute_result"
    }
   ],
   "source": [
    "SIBcdvhs['Pulmon Dcho'].relative_volume.statistic('V20Gy')"
   ]
  },
  {
   "cell_type": "markdown",
   "id": "1b6a06e7-3f49-42a6-8b11-168d2efa02b7",
   "metadata": {},
   "source": [
    "Es decir un 18% del volumen del pulmón recibe al menos 20 Gy."
   ]
  },
  {
   "cell_type": "markdown",
   "id": "d1e95f29-a308-4c9e-a6a7-4e9a0f96defc",
   "metadata": {},
   "source": [
    "Para obtener el mismo parámetros pero en unidades de volumen absoluto"
   ]
  },
  {
   "cell_type": "code",
   "execution_count": 89,
   "id": "0fe64e42-e377-4bac-9a5a-226992951100",
   "metadata": {},
   "outputs": [
    {
     "data": {
      "text/plain": [
       "dvh.DVHValue(230.65625, 'cm3')"
      ]
     },
     "execution_count": 89,
     "metadata": {},
     "output_type": "execute_result"
    }
   ],
   "source": [
    "SIBcdvhs['Pulmon Dcho'].statistic('V20Gy')"
   ]
  },
  {
   "cell_type": "markdown",
   "id": "7fcbed69-b6ed-45dd-9c56-6005d294ecdb",
   "metadata": {},
   "source": [
    "Para poder valorar volúmenes en unidades relativas de dosis primero es necesario definir la dosis de prescripción del volumen en unas unidades dadas. La opción por defecto en es grays aunque se pueden utilizar otras. Nosotros mantendremos la opción por defecto. \n",
    "\n",
    "Por ejemplo para en el esquema hipofraccionado la dosis al PTV de la mama completa es de 40.05 Gy."
   ]
  },
  {
   "cell_type": "code",
   "execution_count": 94,
   "id": "c84a6de1-9849-4905-90a7-04865347b85d",
   "metadata": {},
   "outputs": [],
   "source": [
    "SIBcdvhs['PTV mama dcha'].rx_dose = 40.05"
   ]
  },
  {
   "cell_type": "markdown",
   "id": "0def30cd-5fc9-486e-9e06-450c7fe7893c",
   "metadata": {},
   "source": [
    "Una vez definido ese parámetro podemos calcula el V95. Cuando no se dan unidades el paquete asume que estamos refiriendo unidades relativas en tanto por ciento, es decir, V95 es el volumen que recibe al menos el 95% de la dosis de prescripción"
   ]
  },
  {
   "cell_type": "code",
   "execution_count": 95,
   "id": "f625a43c-a9c7-4a09-9fe9-0e609eebfeba",
   "metadata": {},
   "outputs": [
    {
     "data": {
      "text/plain": [
       "dvh.DVHValue(97.12957677566664, '%')"
      ]
     },
     "execution_count": 95,
     "metadata": {},
     "output_type": "execute_result"
    }
   ],
   "source": [
    "SIBcdvhs['PTV mama dcha'].relative_volume.statistic('V95')"
   ]
  },
  {
   "cell_type": "markdown",
   "id": "aec1cbc8-6a17-42a3-adbd-0d23a30fc817",
   "metadata": {},
   "source": [
    "O en términos de unidades absolutas de volumen"
   ]
  },
  {
   "cell_type": "code",
   "execution_count": 96,
   "id": "77e2ec18-6e38-4393-a5fb-a39e1939de2d",
   "metadata": {},
   "outputs": [
    {
     "data": {
      "text/plain": [
       "dvh.DVHValue(744.4375, 'cm3')"
      ]
     },
     "execution_count": 96,
     "metadata": {},
     "output_type": "execute_result"
    }
   ],
   "source": [
    "SIBcdvhs['PTV mama dcha'].statistic('V95')"
   ]
  },
  {
   "cell_type": "markdown",
   "id": "6ad7a69f-a968-4438-9ffe-28e904a84669",
   "metadata": {},
   "source": []
  }
 ],
 "metadata": {
  "kernelspec": {
   "display_name": "Python 3 (ipykernel)",
   "language": "python",
   "name": "python3"
  },
  "language_info": {
   "codemirror_mode": {
    "name": "ipython",
    "version": 3
   },
   "file_extension": ".py",
   "mimetype": "text/x-python",
   "name": "python",
   "nbconvert_exporter": "python",
   "pygments_lexer": "ipython3",
   "version": "3.9.15"
  }
 },
 "nbformat": 4,
 "nbformat_minor": 5
}
